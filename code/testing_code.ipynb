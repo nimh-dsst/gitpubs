{
 "cells": [
  {
   "cell_type": "code",
   "execution_count": 65,
   "metadata": {},
   "outputs": [],
   "source": [
    "import pandas as pd\n",
    "import glob\n",
    "import json\n",
    "import github_api\n",
    "import search_for_url\n",
    "import re\n",
    "import os"
   ]
  },
  {
   "cell_type": "code",
   "execution_count": 34,
   "metadata": {},
   "outputs": [],
   "source": [
    "papes = sorted(glob.glob('/Users/riddleta/Desktop/ac_knowl/output/git_papes/*'))"
   ]
  },
  {
   "cell_type": "code",
   "execution_count": 26,
   "metadata": {},
   "outputs": [],
   "source": [
    "with open(papes[1]) as infile:\n",
    "    dat = json.load(infile)"
   ]
  },
  {
   "cell_type": "code",
   "execution_count": 45,
   "metadata": {},
   "outputs": [],
   "source": [
    "links = []\n",
    "for paper in dat:\n",
    "    links.extend(search_for_url.search_for_url(' '.join([i['text'] for i in paper['documents'][0]['passages']])))\n",
    "#temp = search_for_url.search_for_url(' '.join([i['text'] for i in dat[12]['documents'][0]['passages']]))\n"
   ]
  },
  {
   "cell_type": "code",
   "execution_count": 42,
   "metadata": {},
   "outputs": [
    {
     "data": {
      "text/plain": [
       "['http://cnsgenomics.com/software/gcta/',\n",
       " 'https://github.com/bulik/ldsc',\n",
       " 'http://prsice.info',\n",
       " 'http://cnsgenomics.com/software/gcta/',\n",
       " 'https://github.com/bulik/ldsc',\n",
       " 'http://prsice.info']"
      ]
     },
     "execution_count": 42,
     "metadata": {},
     "output_type": "execute_result"
    }
   ],
   "source": [
    "links.extend(temp)\n",
    "links\n"
   ]
  },
  {
   "cell_type": "code",
   "execution_count": 31,
   "metadata": {},
   "outputs": [],
   "source": [
    "res = github_api.GithubAPI(repo_name = 'qiime_pipe', acct_name='maasha')"
   ]
  },
  {
   "cell_type": "code",
   "execution_count": 32,
   "metadata": {},
   "outputs": [
    {
     "data": {
      "text/plain": [
       "<bound method GithubAPI.exists of <github_api.GithubAPI object at 0x1197f0fd0>>"
      ]
     },
     "execution_count": 32,
     "metadata": {},
     "output_type": "execute_result"
    }
   ],
   "source": [
    "res.exists"
   ]
  },
  {
   "cell_type": "code",
   "execution_count": 63,
   "metadata": {},
   "outputs": [],
   "source": [
    "def github_agg(github_res):\n",
    "    read_mes\n",
    "    for i in github_res.get_master_filelist():\n",
    "        if re.match('README\\.md', i['path']):\n",
    "            read mes = read_mes + 1\n",
    "        pths = os.path.splittext(i['path'])\n",
    "        "
   ]
  },
  {
   "cell_type": "code",
   "execution_count": 64,
   "metadata": {},
   "outputs": [
    {
     "name": "stdout",
     "output_type": "stream",
     "text": [
      "{'path': 'README.md', 'mode': '100644', 'type': 'blob', 'sha': '41c9851b75392524e6d6c41c4520f7f0b5062356', 'size': 900, 'url': 'https://api.github.com/repos/maasha/qiime_pipe/git/blobs/41c9851b75392524e6d6c41c4520f7f0b5062356'}\n"
     ]
    }
   ],
   "source": [
    "github_agg(res)"
   ]
  },
  {
   "cell_type": "code",
   "execution_count": 95,
   "metadata": {},
   "outputs": [],
   "source": [
    "res2 = github_api.GithubAPI(repo_name = '2017_BMC-Ecol_Environmental-Drivers-of-Ixodes', acct_name='EhrmannS')"
   ]
  },
  {
   "cell_type": "code",
   "execution_count": 68,
   "metadata": {},
   "outputs": [
    {
     "name": "stdout",
     "output_type": "stream",
     "text": [
      "('.gitignore', '')\n",
      "('README', '.md')\n",
      "('lib', '')\n",
      "('lib/qiime', '.rb')\n",
      "('process_illumina', '.rb')\n",
      "('qiime_merge_datasets', '.rb')\n",
      "('qiime_merge_fasta_files', '.rb')\n",
      "('qiime_merge_mapping_files', '.rb')\n",
      "('qiime_pipe', '.rb')\n"
     ]
    }
   ],
   "source": [
    "for i in res.get_master_filelist():\n",
    "    print(os.path.splitext(i['path']))"
   ]
  },
  {
   "cell_type": "code",
   "execution_count": 100,
   "metadata": {},
   "outputs": [],
   "source": [
    "res_me = github_api.GithubAPI(repo_name='riddlet', acct_name='gitpubs')"
   ]
  },
  {
   "cell_type": "code",
   "execution_count": 101,
   "metadata": {},
   "outputs": [
    {
     "data": {
      "text/plain": [
       "<bound method GithubAPI.exists of <github_api.GithubAPI object at 0x11ae946a0>>"
      ]
     },
     "execution_count": 101,
     "metadata": {},
     "output_type": "execute_result"
    }
   ],
   "source": [
    "res_me.exists"
   ]
  },
  {
   "cell_type": "code",
   "execution_count": 102,
   "metadata": {},
   "outputs": [
    {
     "data": {
      "text/plain": [
       "[{'path': '.DS_Store',\n",
       "  'mode': '100644',\n",
       "  'type': 'blob',\n",
       "  'sha': 'fa1fd5ddce2a2bdc2e68a1b5944589d704093ae0',\n",
       "  'size': 6148,\n",
       "  'url': 'https://api.github.com/repos/riddlet/gitpubs/git/blobs/fa1fd5ddce2a2bdc2e68a1b5944589d704093ae0'},\n",
       " {'path': 'README.md',\n",
       "  'mode': '100644',\n",
       "  'type': 'blob',\n",
       "  'sha': 'ad00f1dc555aa13251593f4d45433b470d8ff4ed',\n",
       "  'size': 994,\n",
       "  'url': 'https://api.github.com/repos/riddlet/gitpubs/git/blobs/ad00f1dc555aa13251593f4d45433b470d8ff4ed'},\n",
       " {'path': 'code',\n",
       "  'mode': '040000',\n",
       "  'type': 'tree',\n",
       "  'sha': 'cf80a7d43cf105f30cd459b9b7d3babdd9cafd51',\n",
       "  'url': 'https://api.github.com/repos/riddlet/gitpubs/git/trees/cf80a7d43cf105f30cd459b9b7d3babdd9cafd51'},\n",
       " {'path': 'code/github_api.py',\n",
       "  'mode': '100644',\n",
       "  'type': 'blob',\n",
       "  'sha': '4e88f2875e09a8cf31c98f2f2932fa73bc94e356',\n",
       "  'size': 3143,\n",
       "  'url': 'https://api.github.com/repos/riddlet/gitpubs/git/blobs/4e88f2875e09a8cf31c98f2f2932fa73bc94e356'},\n",
       " {'path': 'code/search_for_url.py',\n",
       "  'mode': '100644',\n",
       "  'type': 'blob',\n",
       "  'sha': 'ddf69787c05da1341ceecd33f3073de0d64e8ff4',\n",
       "  'size': 2579,\n",
       "  'url': 'https://api.github.com/repos/riddlet/gitpubs/git/blobs/ddf69787c05da1341ceecd33f3073de0d64e8ff4'},\n",
       " {'path': 'data',\n",
       "  'mode': '040000',\n",
       "  'type': 'tree',\n",
       "  'sha': '3a5a159c4c0660725f8e150225ba80ef78feb3ab',\n",
       "  'url': 'https://api.github.com/repos/riddlet/gitpubs/git/trees/3a5a159c4c0660725f8e150225ba80ef78feb3ab'},\n",
       " {'path': 'data/bionlp_01.csv',\n",
       "  'mode': '100644',\n",
       "  'type': 'blob',\n",
       "  'sha': 'c96190adaea86f2960a55888fe62c9c444d519a7',\n",
       "  'size': 686435,\n",
       "  'url': 'https://api.github.com/repos/riddlet/gitpubs/git/blobs/c96190adaea86f2960a55888fe62c9c444d519a7'},\n",
       " {'path': 'data/bionlp_02.csv',\n",
       "  'mode': '100644',\n",
       "  'type': 'blob',\n",
       "  'sha': '499b4703a971d91960d93c612841cc32cc203f3e',\n",
       "  'size': 946659,\n",
       "  'url': 'https://api.github.com/repos/riddlet/gitpubs/git/blobs/499b4703a971d91960d93c612841cc32cc203f3e'},\n",
       " {'path': 'data/bionlp_03.csv',\n",
       "  'mode': '100644',\n",
       "  'type': 'blob',\n",
       "  'sha': 'b65ffe551201be47e3706a93d9594d8405d7c6ac',\n",
       "  'size': 1314670,\n",
       "  'url': 'https://api.github.com/repos/riddlet/gitpubs/git/blobs/b65ffe551201be47e3706a93d9594d8405d7c6ac'},\n",
       " {'path': 'data/bionlp_04.csv',\n",
       "  'mode': '100644',\n",
       "  'type': 'blob',\n",
       "  'sha': 'eacf6de96177731084069fba50a52a6dc6991ceb',\n",
       "  'size': 1648664,\n",
       "  'url': 'https://api.github.com/repos/riddlet/gitpubs/git/blobs/eacf6de96177731084069fba50a52a6dc6991ceb'},\n",
       " {'path': 'data/bionlp_05.csv',\n",
       "  'mode': '100644',\n",
       "  'type': 'blob',\n",
       "  'sha': '5346e18f1907819178cb642d757cdf0b60d9475d',\n",
       "  'size': 1690475,\n",
       "  'url': 'https://api.github.com/repos/riddlet/gitpubs/git/blobs/5346e18f1907819178cb642d757cdf0b60d9475d'},\n",
       " {'path': 'data/bionlp_06.csv',\n",
       "  'mode': '100644',\n",
       "  'type': 'blob',\n",
       "  'sha': 'b54f19868040a49bb2d0d281b05a6118e9420428',\n",
       "  'size': 6825854,\n",
       "  'url': 'https://api.github.com/repos/riddlet/gitpubs/git/blobs/b54f19868040a49bb2d0d281b05a6118e9420428'},\n",
       " {'path': 'data/bionlp_07.csv',\n",
       "  'mode': '100644',\n",
       "  'type': 'blob',\n",
       "  'sha': 'f5fd971f8b93efee758d6a245ab72fef36d313d0',\n",
       "  'size': 2632187,\n",
       "  'url': 'https://api.github.com/repos/riddlet/gitpubs/git/blobs/f5fd971f8b93efee758d6a245ab72fef36d313d0'},\n",
       " {'path': 'data/bionlp_08.csv',\n",
       "  'mode': '100644',\n",
       "  'type': 'blob',\n",
       "  'sha': 'a73795389ba719c1982316abea7fc99c3cf3d4d5',\n",
       "  'size': 3005621,\n",
       "  'url': 'https://api.github.com/repos/riddlet/gitpubs/git/blobs/a73795389ba719c1982316abea7fc99c3cf3d4d5'},\n",
       " {'path': 'data/bionlp_09.csv',\n",
       "  'mode': '100644',\n",
       "  'type': 'blob',\n",
       "  'sha': 'c91735df72d699c7a718403fd8522efdf8b88b97',\n",
       "  'size': 9427865,\n",
       "  'url': 'https://api.github.com/repos/riddlet/gitpubs/git/blobs/c91735df72d699c7a718403fd8522efdf8b88b97'},\n",
       " {'path': 'data/bionlp_10.csv',\n",
       "  'mode': '100644',\n",
       "  'type': 'blob',\n",
       "  'sha': 'db9bb7a1aa69681d15f61fe9004def35fd0eea1c',\n",
       "  'size': 3391086,\n",
       "  'url': 'https://api.github.com/repos/riddlet/gitpubs/git/blobs/db9bb7a1aa69681d15f61fe9004def35fd0eea1c'},\n",
       " {'path': 'data/bionlp_11.csv',\n",
       "  'mode': '100644',\n",
       "  'type': 'blob',\n",
       "  'sha': 'aa922518c446ab98509e9f300206eb74213966c4',\n",
       "  'size': 1480381,\n",
       "  'url': 'https://api.github.com/repos/riddlet/gitpubs/git/blobs/aa922518c446ab98509e9f300206eb74213966c4'},\n",
       " {'path': 'data/bionlp_12.csv',\n",
       "  'mode': '100644',\n",
       "  'type': 'blob',\n",
       "  'sha': 'be21f60bf66592c2f1d03a005145cfa9c536270b',\n",
       "  'size': 744224,\n",
       "  'url': 'https://api.github.com/repos/riddlet/gitpubs/git/blobs/be21f60bf66592c2f1d03a005145cfa9c536270b'},\n",
       " {'path': 'data/bionlp_13.csv',\n",
       "  'mode': '100644',\n",
       "  'type': 'blob',\n",
       "  'sha': '138db4b6959979f277afea25c8c02f4dabe72f27',\n",
       "  'size': 11564423,\n",
       "  'url': 'https://api.github.com/repos/riddlet/gitpubs/git/blobs/138db4b6959979f277afea25c8c02f4dabe72f27'},\n",
       " {'path': 'data/bionlp_14.csv',\n",
       "  'mode': '100644',\n",
       "  'type': 'blob',\n",
       "  'sha': '9be60cabd0f757f0d5dafe52d368e889c207bb90',\n",
       "  'size': 1123759,\n",
       "  'url': 'https://api.github.com/repos/riddlet/gitpubs/git/blobs/9be60cabd0f757f0d5dafe52d368e889c207bb90'},\n",
       " {'path': 'data/bionlp_15.csv',\n",
       "  'mode': '100644',\n",
       "  'type': 'blob',\n",
       "  'sha': 'ca8afca5ca876a1b615b6779b9a26840aa6fd331',\n",
       "  'size': 1496708,\n",
       "  'url': 'https://api.github.com/repos/riddlet/gitpubs/git/blobs/ca8afca5ca876a1b615b6779b9a26840aa6fd331'},\n",
       " {'path': 'data/bionlp_16.csv',\n",
       "  'mode': '100644',\n",
       "  'type': 'blob',\n",
       "  'sha': '5bf93292e28ba7b01e496a58efce5b7daeef0d0b',\n",
       "  'size': 1916534,\n",
       "  'url': 'https://api.github.com/repos/riddlet/gitpubs/git/blobs/5bf93292e28ba7b01e496a58efce5b7daeef0d0b'},\n",
       " {'path': 'data/bionlp_17.csv',\n",
       "  'mode': '100644',\n",
       "  'type': 'blob',\n",
       "  'sha': '17979a9f5be6617c52a3082a005658d7a5a40e29',\n",
       "  'size': 2286387,\n",
       "  'url': 'https://api.github.com/repos/riddlet/gitpubs/git/blobs/17979a9f5be6617c52a3082a005658d7a5a40e29'},\n",
       " {'path': 'data/bionlp_18.csv',\n",
       "  'mode': '100644',\n",
       "  'type': 'blob',\n",
       "  'sha': '25d6330e4cf9bc090294679b1102c3a12e1aa4c5',\n",
       "  'size': 13457676,\n",
       "  'url': 'https://api.github.com/repos/riddlet/gitpubs/git/blobs/25d6330e4cf9bc090294679b1102c3a12e1aa4c5'},\n",
       " {'path': 'data/bionlp_19.csv',\n",
       "  'mode': '100644',\n",
       "  'type': 'blob',\n",
       "  'sha': '5198738327c32bda3ab0082070b0a4eabaeb8734',\n",
       "  'size': 2631833,\n",
       "  'url': 'https://api.github.com/repos/riddlet/gitpubs/git/blobs/5198738327c32bda3ab0082070b0a4eabaeb8734'},\n",
       " {'path': 'data/bionlp_20.csv',\n",
       "  'mode': '100644',\n",
       "  'type': 'blob',\n",
       "  'sha': '4879f99ff650913192d9e445b961441d3afa903c',\n",
       "  'size': 2270108,\n",
       "  'url': 'https://api.github.com/repos/riddlet/gitpubs/git/blobs/4879f99ff650913192d9e445b961441d3afa903c'},\n",
       " {'path': 'data/bionlp_21.csv',\n",
       "  'mode': '100644',\n",
       "  'type': 'blob',\n",
       "  'sha': '211d4e8815963ac4c91a41e33ce479d9826ec8dc',\n",
       "  'size': 2638705,\n",
       "  'url': 'https://api.github.com/repos/riddlet/gitpubs/git/blobs/211d4e8815963ac4c91a41e33ce479d9826ec8dc'},\n",
       " {'path': 'data/bionlp_22.csv',\n",
       "  'mode': '100644',\n",
       "  'type': 'blob',\n",
       "  'sha': 'dcd0276576f172379c9297a30b5ef52e4b5d2639',\n",
       "  'size': 1895636,\n",
       "  'url': 'https://api.github.com/repos/riddlet/gitpubs/git/blobs/dcd0276576f172379c9297a30b5ef52e4b5d2639'},\n",
       " {'path': 'data/bionlp_23.csv',\n",
       "  'mode': '100644',\n",
       "  'type': 'blob',\n",
       "  'sha': 'afaf3f10d49b156bca5b8cc43f2d5bf9ba371a14',\n",
       "  'size': 15496847,\n",
       "  'url': 'https://api.github.com/repos/riddlet/gitpubs/git/blobs/afaf3f10d49b156bca5b8cc43f2d5bf9ba371a14'},\n",
       " {'path': 'data/bionlp_24.csv',\n",
       "  'mode': '100644',\n",
       "  'type': 'blob',\n",
       "  'sha': 'd6e05217da2f58af0cc310996ead462d48c57db7',\n",
       "  'size': 3021531,\n",
       "  'url': 'https://api.github.com/repos/riddlet/gitpubs/git/blobs/d6e05217da2f58af0cc310996ead462d48c57db7'},\n",
       " {'path': 'data/bionlp_25.csv',\n",
       "  'mode': '100644',\n",
       "  'type': 'blob',\n",
       "  'sha': '64e966c9f701c68de4d388905d8bcb14b2a7b582',\n",
       "  'size': 3431831,\n",
       "  'url': 'https://api.github.com/repos/riddlet/gitpubs/git/blobs/64e966c9f701c68de4d388905d8bcb14b2a7b582'},\n",
       " {'path': 'data/bionlp_26.csv',\n",
       "  'mode': '100644',\n",
       "  'type': 'blob',\n",
       "  'sha': 'f29b85cfe593f1f7d979831456ca4296b7fab628',\n",
       "  'size': 3129405,\n",
       "  'url': 'https://api.github.com/repos/riddlet/gitpubs/git/blobs/f29b85cfe593f1f7d979831456ca4296b7fab628'},\n",
       " {'path': 'data/bionlp_27.csv',\n",
       "  'mode': '100644',\n",
       "  'type': 'blob',\n",
       "  'sha': 'eca9fa763cc159945facce1ac1f1c166cd9edd20',\n",
       "  'size': 1582138,\n",
       "  'url': 'https://api.github.com/repos/riddlet/gitpubs/git/blobs/eca9fa763cc159945facce1ac1f1c166cd9edd20'},\n",
       " {'path': 'data/bionlp_28.csv',\n",
       "  'mode': '100644',\n",
       "  'type': 'blob',\n",
       "  'sha': 'ec42ee1d90eabbdbcd581a1adc2ea1effda53cef',\n",
       "  'size': 19136551,\n",
       "  'url': 'https://api.github.com/repos/riddlet/gitpubs/git/blobs/ec42ee1d90eabbdbcd581a1adc2ea1effda53cef'},\n",
       " {'path': 'data/bionlp_29.csv',\n",
       "  'mode': '100644',\n",
       "  'type': 'blob',\n",
       "  'sha': 'f11f785754f2c5aa5a2f2c3890347c8b6f2836fd',\n",
       "  'size': 19096839,\n",
       "  'url': 'https://api.github.com/repos/riddlet/gitpubs/git/blobs/f11f785754f2c5aa5a2f2c3890347c8b6f2836fd'},\n",
       " {'path': 'data/bionlp_30.csv',\n",
       "  'mode': '100644',\n",
       "  'type': 'blob',\n",
       "  'sha': '5021938df6c9facd36cd945dbb62ef695dbac2cf',\n",
       "  'size': 19523414,\n",
       "  'url': 'https://api.github.com/repos/riddlet/gitpubs/git/blobs/5021938df6c9facd36cd945dbb62ef695dbac2cf'},\n",
       " {'path': 'data/bionlp_31.csv',\n",
       "  'mode': '100644',\n",
       "  'type': 'blob',\n",
       "  'sha': '2473eb26574ec7c953607b0f9ad46ae38068b5cf',\n",
       "  'size': 4225686,\n",
       "  'url': 'https://api.github.com/repos/riddlet/gitpubs/git/blobs/2473eb26574ec7c953607b0f9ad46ae38068b5cf'},\n",
       " {'path': 'data/bionlp_32.csv',\n",
       "  'mode': '100644',\n",
       "  'type': 'blob',\n",
       "  'sha': '6dcd91ef1438d0e30b072e1634822dc2d5f4fc76',\n",
       "  'size': 21720324,\n",
       "  'url': 'https://api.github.com/repos/riddlet/gitpubs/git/blobs/6dcd91ef1438d0e30b072e1634822dc2d5f4fc76'},\n",
       " {'path': 'data/bionlp_33.csv',\n",
       "  'mode': '100644',\n",
       "  'type': 'blob',\n",
       "  'sha': 'e20a6b8500edb2d8a66f324d00d51cbaab83536b',\n",
       "  'size': 21505572,\n",
       "  'url': 'https://api.github.com/repos/riddlet/gitpubs/git/blobs/e20a6b8500edb2d8a66f324d00d51cbaab83536b'},\n",
       " {'path': 'data/bionlp_34.csv',\n",
       "  'mode': '100644',\n",
       "  'type': 'blob',\n",
       "  'sha': '016a3a69b6acc1b7b54261152f31f62aa76c20ed',\n",
       "  'size': 18494684,\n",
       "  'url': 'https://api.github.com/repos/riddlet/gitpubs/git/blobs/016a3a69b6acc1b7b54261152f31f62aa76c20ed'},\n",
       " {'path': 'data/bionlp_35.csv',\n",
       "  'mode': '100644',\n",
       "  'type': 'blob',\n",
       "  'sha': '5958494cb62854875d3745a1e9c707f7d21b52df',\n",
       "  'size': 19408,\n",
       "  'url': 'https://api.github.com/repos/riddlet/gitpubs/git/blobs/5958494cb62854875d3745a1e9c707f7d21b52df'},\n",
       " {'path': 'data/bionlp_36.csv',\n",
       "  'mode': '100644',\n",
       "  'type': 'blob',\n",
       "  'sha': '5958494cb62854875d3745a1e9c707f7d21b52df',\n",
       "  'size': 19408,\n",
       "  'url': 'https://api.github.com/repos/riddlet/gitpubs/git/blobs/5958494cb62854875d3745a1e9c707f7d21b52df'}]"
      ]
     },
     "execution_count": 102,
     "metadata": {},
     "output_type": "execute_result"
    }
   ],
   "source": [
    "res_me."
   ]
  },
  {
   "cell_type": "code",
   "execution_count": null,
   "metadata": {},
   "outputs": [],
   "source": []
  }
 ],
 "metadata": {
  "kernelspec": {
   "display_name": "Python 3",
   "language": "python",
   "name": "python3"
  },
  "language_info": {
   "codemirror_mode": {
    "name": "ipython",
    "version": 3
   },
   "file_extension": ".py",
   "mimetype": "text/x-python",
   "name": "python",
   "nbconvert_exporter": "python",
   "pygments_lexer": "ipython3",
   "version": "3.7.3"
  }
 },
 "nbformat": 4,
 "nbformat_minor": 2
}
